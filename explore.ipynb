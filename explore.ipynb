{
 "cells": [
  {
   "metadata": {
    "jupyter": {
     "is_executing": true
    }
   },
   "cell_type": "code",
   "source": "import polars as pl",
   "id": "29ea60b7e6165487",
   "outputs": [],
   "execution_count": null
  },
  {
   "metadata": {},
   "cell_type": "code",
   "outputs": [],
   "execution_count": null,
   "source": "",
   "id": "a6d3da1631005a3"
  }
 ],
 "metadata": {},
 "nbformat": 5,
 "nbformat_minor": 9
}
